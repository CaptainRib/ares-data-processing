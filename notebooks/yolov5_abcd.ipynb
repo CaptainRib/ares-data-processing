{
 "cells": [
  {
   "cell_type": "code",
   "execution_count": null,
   "id": "fcb7fdd9",
   "metadata": {},
   "outputs": [],
   "source": [
    "from ultralytics import YOLO\n",
    "import torch"
   ]
  },
  {
   "cell_type": "code",
   "execution_count": null,
   "id": "266082e8",
   "metadata": {},
   "outputs": [],
   "source": [
    "data_config_location = '<location of dateset>'\n",
    "model = YOLO('yolov5su.pt')  # load a pretrained model (recommended for training)\n",
    "model.train(data=data_config_location, epochs=500, imgsz=640, device=1, batch=96, save=True, save_period=20, verbose=True, model='yolov5s.pt', patience=200, fliplr=0)\n",
    "source = '<location of images to make prediction>'\n",
    "pt = '<location of weights>/best.pt'\n",
    "model = YOLO(pt)\n",
    "results = model(source, conf=0.5, save=True, augment=False)"
   ]
  }
 ],
 "metadata": {
  "kernelspec": {
   "display_name": "ares",
   "language": "python",
   "name": "ares"
  },
  "language_info": {
   "codemirror_mode": {
    "name": "ipython",
    "version": 3
   },
   "file_extension": ".py",
   "mimetype": "text/x-python",
   "name": "python",
   "nbconvert_exporter": "python",
   "pygments_lexer": "ipython3",
   "version": "3.8.16"
  }
 },
 "nbformat": 4,
 "nbformat_minor": 5
}
