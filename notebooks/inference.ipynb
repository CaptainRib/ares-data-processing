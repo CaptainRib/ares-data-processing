{
 "cells": [
  {
   "cell_type": "markdown",
   "id": "8b3ec0f6",
   "metadata": {},
   "source": [
    "# Historical Data Inference"
   ]
  },
  {
   "cell_type": "code",
   "execution_count": 1,
   "id": "22f35664",
   "metadata": {},
   "outputs": [],
   "source": [
    "import sys\n",
    "sys.path.append('/Users/captainrib/workspace/project-ares/ares-data-processing/aresdataprocessing')\n",
    "\n",
    "from roboflow import Roboflow\n",
    "import json, os\n",
    "import cv2\n",
    "import matplotlib.pyplot as plt\n",
    "import matplotlib.patches as patches\n",
    "from processor.segementation_generation import SegGen\n",
    "from PIL import Image, ImageDraw, ImageFont\n",
    "import pandas as pd\n",
    "import matplotlib.dates as mdates\n",
    "import plotly.graph_objects as go\n",
    "import numpy as np\n",
    "import math"
   ]
  },
  {
   "cell_type": "code",
   "execution_count": 2,
   "id": "1038d52e",
   "metadata": {},
   "outputs": [
    {
     "name": "stdout",
     "output_type": "stream",
     "text": [
      "loading Roboflow workspace...\n",
      "loading Roboflow project...\n"
     ]
    }
   ],
   "source": [
    "rf = Roboflow(api_key=\"rjip0pPqsC01gzM4itzX\")\n",
    "project = rf.workspace().project(\"project-ares\")\n",
    "model = project.version(1).model\n",
    "#image_path = '/Users/captainrib/workspace/project-ares/ares-data-processing/data/images/testcases/pos2.png'\n",
    "\n",
    "def save_image(image_path, detections, output_path):\n",
    "    image = Image.open(image_path)\n",
    "\n",
    "    draw = ImageDraw.Draw(image)\n",
    "    font = ImageFont.load_default()\n",
    "\n",
    "    for box in detections:\n",
    "        color = \"#4892EA\"\n",
    "        x1 = box['x'] - box['width'] / 2\n",
    "        x2 = box['x'] + box['width'] / 2\n",
    "        y1 = box['y'] - box['height'] / 2\n",
    "        y2 = box['y'] + box['height'] / 2\n",
    "\n",
    "        draw.rectangle([\n",
    "            x1, y1, x2, y2\n",
    "        ], outline=color, width=1)\n",
    "\n",
    "    image.save(output_path)"
   ]
  },
  {
   "cell_type": "code",
   "execution_count": 3,
   "id": "771b12dc",
   "metadata": {},
   "outputs": [],
   "source": [
    "input_folder = '/Users/captainrib/workspace/project-ares/ares-data-processing/data/images/newdata'\n",
    "output_folder = '/Users/captainrib/workspace/project-ares/ares-data-processing/data/images/haspattern'\n",
    "\n",
    "if not os.path.exists(output_folder):\n",
    "    os.makedirs(output_folder)\n",
    "\n",
    "for filename in os.listdir(input_folder):\n",
    "    if filename.endswith(\".png\") or filename.endswith(\".jpg\"):\n",
    "        input_image_path = os.path.join(input_folder, filename)\n",
    "        output_image_path = os.path.join(output_folder, filename)\n",
    "\n",
    "        # Get predictions using your model (replace this line with actual model predictions)\n",
    "        result = model.predict(input_image_path, confidence=70, overlap=30).json()\n",
    "        detections = result['predictions']\n",
    "        \n",
    "        if detections:\n",
    "            save_image(input_image_path, detections, output_image_path)"
   ]
  },
  {
   "cell_type": "code",
   "execution_count": 4,
   "id": "23ab8205",
   "metadata": {},
   "outputs": [
    {
     "name": "stdout",
     "output_type": "stream",
     "text": [
      "0     19439.621528\n",
      "1     19439.622222\n",
      "2     19439.622917\n",
      "3     19439.623611\n",
      "4     19439.624306\n",
      "5     19439.625000\n",
      "6     19439.625694\n",
      "7     19439.626389\n",
      "8     19439.627083\n",
      "9     19439.627778\n",
      "10    19439.628472\n",
      "11    19439.629167\n",
      "12    19439.629861\n",
      "13    19439.630556\n",
      "14    19439.631250\n",
      "15    19439.631944\n",
      "16    19439.632639\n",
      "17    19439.633333\n",
      "18    19439.634028\n",
      "19    19439.634722\n",
      "20    19439.635417\n",
      "21    19439.636111\n",
      "22    19439.636806\n",
      "23    19439.637500\n",
      "24    19439.638194\n",
      "25    19439.638889\n",
      "26    19439.639583\n",
      "27    19439.640278\n",
      "28    19439.640972\n",
      "29    19439.641667\n",
      "Name: timestamp, dtype: float64\n"
     ]
    }
   ],
   "source": [
    "data_path = '/Users/captainrib/workspace/project-ares/ares-data-processing/data/raw/'\n",
    "date = '2023-03-23'\n",
    "data = pd.read_csv('{}amd_{}.csv'.format(data_path, date), parse_dates=['timestamp'])\n",
    "segment_size = 30\n",
    "start = 85\n",
    "\n",
    "segment_data = data.iloc[start:start + segment_size].reset_index()\n",
    "segment_data['timestamp'] = mdates.date2num(segment_data['timestamp'].dt.to_pydatetime())\n",
    "print(segment_data['timestamp'])\n",
    "fig = go.Figure(data=[go.Candlestick(x=segment_data['timestamp'],\n",
    "                open=segment_data['open'],\n",
    "                high=segment_data['high'],\n",
    "                low=segment_data['low'],\n",
    "                close=segment_data['close'], increasing_line_color='red', decreasing_line_color='red')])\n",
    "\n",
    "# Remove slider, set background color to white and remove grid\n",
    "fig.update_layout(xaxis_rangeslider_visible=False, paper_bgcolor='white', xaxis=dict(showgrid=False), yaxis=dict(showgrid=False))\n",
    "fig.update_traces(line=dict(width=0), showlegend=False)\n",
    "fig.update_xaxes(visible=False)\n",
    "fig.update_yaxes(visible=False)\n",
    "\n",
    "fig.write_image('example.png')"
   ]
  },
  {
   "cell_type": "code",
   "execution_count": 5,
   "id": "e475159b",
   "metadata": {},
   "outputs": [
    {
     "name": "stdout",
     "output_type": "stream",
     "text": [
      "[{'x': 266, 'y': 255, 'width': 86, 'height': 156, 'confidence': 0.7688460350036621, 'class': 'ABCD', 'image_path': 'example.png', 'prediction_type': 'ObjectDetectionModel'}]\n"
     ]
    }
   ],
   "source": [
    "result = model.predict('example.png', confidence=70, overlap=30).json()\n",
    "detections = result['predictions']\n",
    "print(detections)\n",
    "save_image('example.png', detections, 'example_i.png')"
   ]
  },
  {
   "cell_type": "code",
   "execution_count": 6,
   "id": "3e2a98ed",
   "metadata": {},
   "outputs": [
    {
     "name": "stdout",
     "output_type": "stream",
     "text": [
      "0     19439.621528\n",
      "1     19439.622222\n",
      "2     19439.622917\n",
      "3     19439.623611\n",
      "4     19439.624306\n",
      "5     19439.625000\n",
      "6     19439.625694\n",
      "7     19439.626389\n",
      "8     19439.627083\n",
      "9     19439.627778\n",
      "10    19439.628472\n",
      "11    19439.629167\n",
      "12    19439.629861\n",
      "13    19439.630556\n",
      "14    19439.631250\n",
      "15    19439.631944\n",
      "16    19439.632639\n",
      "17    19439.633333\n",
      "18    19439.634028\n",
      "19    19439.634722\n",
      "20    19439.635417\n",
      "21    19439.636111\n",
      "22    19439.636806\n",
      "23    19439.637500\n",
      "24    19439.638194\n",
      "25    19439.638889\n",
      "26    19439.639583\n",
      "27    19439.640278\n",
      "28    19439.640972\n",
      "29    19439.641667\n",
      "Name: timestamp, dtype: float64\n"
     ]
    }
   ],
   "source": [
    "\n",
    "def get_timestamps(segement_time, start_timestamp, end_timestamp, image_width, box_x, box_width):\n",
    "    start_index = int(box_x - box_width / 2 - 80)\n",
    "    end_index = int(start_index + box_width)\n",
    "    start_timestamp = math.ceil(start_index) // 18\n",
    "    end_timestamp = math.ceil(end_index) // 18\n",
    "    start_pattern_timestamp = segement_time[start_timestamp]\n",
    "    end_pattern_timestamp = segement_time[end_timestamp]\n",
    "\n",
    "    return start_pattern_timestamp, end_pattern_timestamp\n",
    "\n",
    "image_width = 700\n",
    "start_timestamp = segment_data['timestamp'][0]\n",
    "end_timestamp = segment_data['timestamp'][29]\n",
    "box_x = detections[0]['x']\n",
    "box_width = detections[0]['width']\n",
    "\n",
    "print(segment_data['timestamp'])\n",
    "start_pattern_timestamp, end_pattern_timestamp = get_timestamps(segment_data['timestamp'],\n",
    "    start_timestamp, end_timestamp, image_width, box_x, box_width\n",
    ")"
   ]
  },
  {
   "cell_type": "code",
   "execution_count": 7,
   "id": "537a3e6f",
   "metadata": {},
   "outputs": [
    {
     "name": "stdout",
     "output_type": "stream",
     "text": [
      "19439.62638888889\n",
      "19439.629861111112\n"
     ]
    }
   ],
   "source": [
    "print(start_pattern_timestamp)\n",
    "print(end_pattern_timestamp)"
   ]
  },
  {
   "cell_type": "code",
   "execution_count": null,
   "id": "ddcf9afa",
   "metadata": {},
   "outputs": [],
   "source": []
  }
 ],
 "metadata": {
  "kernelspec": {
   "display_name": "ares",
   "language": "python",
   "name": "ares"
  },
  "language_info": {
   "codemirror_mode": {
    "name": "ipython",
    "version": 3
   },
   "file_extension": ".py",
   "mimetype": "text/x-python",
   "name": "python",
   "nbconvert_exporter": "python",
   "pygments_lexer": "ipython3",
   "version": "3.8.16"
  }
 },
 "nbformat": 4,
 "nbformat_minor": 5
}
