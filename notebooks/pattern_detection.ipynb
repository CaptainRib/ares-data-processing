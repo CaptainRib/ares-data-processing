{
 "cells": [
  {
   "cell_type": "code",
   "execution_count": 1,
   "id": "d68ab26f",
   "metadata": {},
   "outputs": [],
   "source": [
    "import os, sys\n",
    "import xml.etree.ElementTree as ET\n",
    "import pandas as pd\n",
    "from sklearn.model_selection import train_test_split\n",
    "import numpy as np\n",
    "import cv2\n",
    "from tensorflow.keras.preprocessing.image import img_to_array\n",
    "\n",
    "sys.path.append('/Users/captainrib/workspace/project-ares/ares-data-processing')"
   ]
  },
  {
   "cell_type": "code",
   "execution_count": 2,
   "id": "2bccda89",
   "metadata": {},
   "outputs": [],
   "source": [
    "from data.training.dataset import CandlestickDataset"
   ]
  },
  {
   "cell_type": "markdown",
   "id": "85d91bbc",
   "metadata": {},
   "source": [
    "## Prepare the labeled data"
   ]
  },
  {
   "cell_type": "code",
   "execution_count": 3,
   "id": "3a006cc7",
   "metadata": {},
   "outputs": [],
   "source": [
    "annotations_folder = '/Users/captainrib/workspace/project-ares/ares-data-processing/data/images/labeled'\n",
    "labeled_data_folder = '/Users/captainrib/workspace/project-ares/ares-data-processing/data/images/'\n",
    "image_folder = '/Users/captainrib/workspace/project-ares/ares-data-processing/data/images/30min_segments'\n",
    "\n",
    "# Function to parse a single XML file\n",
    "def parse_annotation(xml_file):\n",
    "    tree = ET.parse(xml_file)\n",
    "    root = tree.getroot()\n",
    "    image_filename = root.find(\"filename\").text\n",
    "    labels = []\n",
    "    \n",
    "    for obj in root.findall(\"object\"):\n",
    "        label = obj.find(\"name\").text\n",
    "        labels.append(label)\n",
    "        \n",
    "    return image_filename, labels\n",
    "\n",
    "# Parse all XML files in the annotations folder\n",
    "annotations = []\n",
    "\n",
    "for xml_file in os.listdir(annotations_folder):\n",
    "    if xml_file.endswith(\".xml\"):\n",
    "        image_filename, labels = parse_annotation(os.path.join(annotations_folder, xml_file))\n",
    "        for label in labels:\n",
    "            annotations.append({\"image_filename\": image_filename, \"label\": label})\n",
    "\n",
    "# Create a DataFrame and save it as a CSV file\n",
    "labeled_data = pd.DataFrame(annotations)\n",
    "labeled_data.to_csv('{}labeled_data.csv'.format(labeled_data_folder), index=False)"
   ]
  },
  {
   "cell_type": "markdown",
   "id": "b1461e52",
   "metadata": {},
   "source": [
    "## Split labeled data to training, validation and testing"
   ]
  },
  {
   "cell_type": "code",
   "execution_count": 4,
   "id": "bf3678b0",
   "metadata": {},
   "outputs": [],
   "source": [
    "# Read the labeled data (replace this with your actual labeled data)\n",
    "data = pd.read_csv('{}labeled_data.csv'.format(labeled_data_folder))\n",
    "\n",
    "# Split the dataset into training and testing sets\n",
    "train_data, test_data = train_test_split(data, test_size=0.3, stratify=data['label'], random_state=42)\n",
    "\n",
    "# Split the remaining test_data into validation and testing sets\n",
    "val_data, test_data = train_test_split(test_data, test_size=0.5, stratify=test_data['label'], random_state=42)\n",
    "\n",
    "# Save the training, validation, and testing sets as separate CSV files\n",
    "train_data.to_csv('{}train_data.csv'.format(labeled_data_folder), index=False)\n",
    "val_data.to_csv('{}val_data.csv'.format(labeled_data_folder), index=False)\n",
    "test_data.to_csv('{}test_data.csv'.format(labeled_data_folder), index=False)"
   ]
  },
  {
   "cell_type": "code",
   "execution_count": 5,
   "id": "a3724b3e",
   "metadata": {},
   "outputs": [
    {
     "data": {
      "text/plain": [
       "'segment_2023-03-15_87.png'"
      ]
     },
     "execution_count": 5,
     "metadata": {},
     "output_type": "execute_result"
    }
   ],
   "source": [
    "train_data.iloc[1][\"image_filename\"]"
   ]
  },
  {
   "cell_type": "markdown",
   "id": "b71ca11e",
   "metadata": {},
   "source": [
    "## Load dataset"
   ]
  },
  {
   "cell_type": "code",
   "execution_count": 10,
   "id": "5d42360d",
   "metadata": {},
   "outputs": [],
   "source": [
    "batch_size = 32\n",
    "input_size = (540, 320)\n",
    "\n",
    "train_dataset = CandlestickDataset('{}train_data.csv'.format(labeled_data_folder), image_folder, annotations_folder, input_size)\n",
    "val_dataset = CandlestickDataset('{}val_data.csv'.format(labeled_data_folder), image_folder, annotations_folder, input_size)\n",
    "test_dataset = CandlestickDataset('{}test_data.csv'.format(labeled_data_folder), image_folder, annotations_folder, input_size)"
   ]
  },
  {
   "cell_type": "code",
   "execution_count": 11,
   "id": "87b5bede",
   "metadata": {},
   "outputs": [],
   "source": [
    "def visualize_sample(image, bboxes, labels):\n",
    "    image_copy = np.copy(image)\n",
    "    \n",
    "    for bbox, label in zip(bboxes, labels):\n",
    "        x_min, y_min, x_max, y_max = bbox\n",
    "        cv2.rectangle(image_copy, (x_min, y_min), (x_max, y_max), (0, 255, 0), 2)\n",
    "        cv2.putText(image_copy, label, (x_min, y_min - 10), cv2.FONT_HERSHEY_SIMPLEX, 0.5, (0, 255, 0), 1)\n",
    "\n",
    "    cv2.imshow(\"Image\", image_copy)\n",
    "    cv2.waitKey(0)\n",
    "    cv2.destroyAllWindows()"
   ]
  },
  {
   "cell_type": "code",
   "execution_count": 12,
   "id": "0eb43ff5",
   "metadata": {},
   "outputs": [
    {
     "name": "stdout",
     "output_type": "stream",
     "text": [
      "Model: \"sequential_1\"\n",
      "_________________________________________________________________\n",
      " Layer (type)                Output Shape              Param #   \n",
      "=================================================================\n",
      " conv2d_3 (Conv2D)           (None, 318, 538, 32)      896       \n",
      "                                                                 \n",
      " max_pooling2d_2 (MaxPooling  (None, 159, 269, 32)     0         \n",
      " 2D)                                                             \n",
      "                                                                 \n",
      " conv2d_4 (Conv2D)           (None, 157, 267, 64)      18496     \n",
      "                                                                 \n",
      " max_pooling2d_3 (MaxPooling  (None, 78, 133, 64)      0         \n",
      " 2D)                                                             \n",
      "                                                                 \n",
      " conv2d_5 (Conv2D)           (None, 76, 131, 64)       36928     \n",
      "                                                                 \n",
      " flatten_1 (Flatten)         (None, 637184)            0         \n",
      "                                                                 \n",
      " dense_2 (Dense)             (None, 64)                40779840  \n",
      "                                                                 \n",
      " dense_3 (Dense)             (None, 1)                 65        \n",
      "                                                                 \n",
      "=================================================================\n",
      "Total params: 40,836,225\n",
      "Trainable params: 40,836,225\n",
      "Non-trainable params: 0\n",
      "_________________________________________________________________\n"
     ]
    }
   ],
   "source": [
    "import tensorflow as tf\n",
    "from tensorflow.keras import layers, models\n",
    "from tensorflow.keras.optimizers import Adam\n",
    "\n",
    "def create_model(input_shape, num_classes):\n",
    "    model = models.Sequential()\n",
    "    model.add(layers.Conv2D(32, (3, 3), activation='relu', input_shape=input_shape))\n",
    "    model.add(layers.MaxPooling2D((2, 2)))\n",
    "    model.add(layers.Conv2D(64, (3, 3), activation='relu'))\n",
    "    model.add(layers.MaxPooling2D((2, 2)))\n",
    "    model.add(layers.Conv2D(64, (3, 3), activation='relu'))\n",
    "    model.add(layers.Flatten())\n",
    "    model.add(layers.Dense(64, activation='relu'))\n",
    "    model.add(layers.Dense(num_classes, activation='softmax'))\n",
    "\n",
    "    return model\n",
    "\n",
    "input_shape = (320, 540, 3)  # Replace with the input size you chose\n",
    "num_classes = 1  # The number of classes in your problem (binary classification in this case)\n",
    "\n",
    "model = create_model(input_shape, num_classes)\n",
    "model.summary()"
   ]
  },
  {
   "cell_type": "code",
   "execution_count": 13,
   "id": "5fa34a0f",
   "metadata": {},
   "outputs": [
    {
     "name": "stdout",
     "output_type": "stream",
     "text": [
      "Epoch 1/10\n"
     ]
    },
    {
     "name": "stderr",
     "output_type": "stream",
     "text": [
      "2023-03-23 23:53:18.101482: I tensorflow/core/common_runtime/executor.cc:1197] [/device:CPU:0] (DEBUG INFO) Executor start aborting (this does not indicate an error and you can ignore this message): INVALID_ARGUMENT: You must feed a value for placeholder tensor 'Placeholder/_0' with dtype int32\n",
      "\t [[{{node Placeholder/_0}}]]\n"
     ]
    },
    {
     "name": "stdout",
     "output_type": "stream",
     "text": [
      "     12/Unknown - 44s 3s/step - loss: 2.5546 - accuracy: 1.0000"
     ]
    },
    {
     "name": "stderr",
     "output_type": "stream",
     "text": [
      "2023-03-23 23:54:02.436774: I tensorflow/core/common_runtime/executor.cc:1197] [/device:CPU:0] (DEBUG INFO) Executor start aborting (this does not indicate an error and you can ignore this message): INVALID_ARGUMENT: You must feed a value for placeholder tensor 'Placeholder/_0' with dtype int32\n",
      "\t [[{{node Placeholder/_0}}]]\n"
     ]
    },
    {
     "name": "stdout",
     "output_type": "stream",
     "text": [
      "12/12 [==============================] - 47s 4s/step - loss: 2.5546 - accuracy: 1.0000 - val_loss: 0.0000e+00 - val_accuracy: 1.0000\n",
      "Epoch 2/10\n",
      "12/12 [==============================] - 50s 4s/step - loss: 0.0000e+00 - accuracy: 1.0000 - val_loss: 0.0000e+00 - val_accuracy: 1.0000\n",
      "Epoch 3/10\n",
      "12/12 [==============================] - 35s 3s/step - loss: 0.0000e+00 - accuracy: 1.0000 - val_loss: 0.0000e+00 - val_accuracy: 1.0000\n",
      "Epoch 4/10\n",
      "12/12 [==============================] - 34s 3s/step - loss: 0.0000e+00 - accuracy: 1.0000 - val_loss: 0.0000e+00 - val_accuracy: 1.0000\n",
      "Epoch 5/10\n",
      "12/12 [==============================] - 34s 3s/step - loss: 0.0000e+00 - accuracy: 1.0000 - val_loss: 0.0000e+00 - val_accuracy: 1.0000\n",
      "Epoch 6/10\n",
      "12/12 [==============================] - 34s 3s/step - loss: 0.0000e+00 - accuracy: 1.0000 - val_loss: 0.0000e+00 - val_accuracy: 1.0000\n",
      "Epoch 7/10\n",
      "12/12 [==============================] - 34s 3s/step - loss: 0.0000e+00 - accuracy: 1.0000 - val_loss: 0.0000e+00 - val_accuracy: 1.0000\n",
      "Epoch 8/10\n",
      "12/12 [==============================] - 34s 3s/step - loss: 0.0000e+00 - accuracy: 1.0000 - val_loss: 0.0000e+00 - val_accuracy: 1.0000\n",
      "Epoch 9/10\n",
      "12/12 [==============================] - 37s 3s/step - loss: 0.0000e+00 - accuracy: 1.0000 - val_loss: 0.0000e+00 - val_accuracy: 1.0000\n",
      "Epoch 10/10\n",
      "12/12 [==============================] - 35s 3s/step - loss: 0.0000e+00 - accuracy: 1.0000 - val_loss: 0.0000e+00 - val_accuracy: 1.0000\n"
     ]
    }
   ],
   "source": [
    "# Compile the model\n",
    "model.compile(optimizer=Adam(learning_rate=0.001),\n",
    "              loss='binary_crossentropy',\n",
    "              metrics=['accuracy'])\n",
    "\n",
    "train_data_gen = tf.data.Dataset.from_generator(\n",
    "    lambda: train_dataset,\n",
    "    output_signature=(\n",
    "        tf.TensorSpec(shape=(320, 540, 3), dtype=tf.uint8),\n",
    "        tf.TensorSpec(shape=(), dtype=tf.int32),\n",
    "    )\n",
    ").batch(batch_size)\n",
    "\n",
    "val_data_gen = tf.data.Dataset.from_generator(\n",
    "    lambda: val_dataset,\n",
    "    output_signature=(\n",
    "        tf.TensorSpec(shape=(320, 540, 3), dtype=tf.uint8),\n",
    "        tf.TensorSpec(shape=(), dtype=tf.int32),\n",
    "    )\n",
    ").batch(batch_size)\n",
    "\n",
    "# Train the model\n",
    "epochs = 10\n",
    "history = model.fit(train_data_gen,\n",
    "                    validation_data=val_data_gen,\n",
    "                    epochs=epochs)"
   ]
  },
  {
   "cell_type": "code",
   "execution_count": 14,
   "id": "e45a2d07",
   "metadata": {},
   "outputs": [
    {
     "data": {
      "text/plain": [
       "<keras.callbacks.History at 0x13fbc2c40>"
      ]
     },
     "execution_count": 14,
     "metadata": {},
     "output_type": "execute_result"
    }
   ],
   "source": [
    "history"
   ]
  },
  {
   "cell_type": "code",
   "execution_count": 28,
   "id": "a7cf8346",
   "metadata": {},
   "outputs": [],
   "source": [
    "test_img_path = '/Users/captainrib/workspace/project-ares/ares-data-processing/data/images/testcases/neg3.png'\n",
    "image = cv2.imread(test_img_path)"
   ]
  },
  {
   "cell_type": "code",
   "execution_count": 29,
   "id": "fd56a589",
   "metadata": {},
   "outputs": [
    {
     "name": "stdout",
     "output_type": "stream",
     "text": [
      "1/1 [==============================] - 0s 208ms/step\n",
      "The bullish flag pattern is present in the image.\n"
     ]
    }
   ],
   "source": [
    "input_size = (540, 320)\n",
    "preprocessed_image = cv2.resize(image, input_size)\n",
    "preprocessed_image = preprocessed_image.astype(\"float32\") / 255.0\n",
    "image_tensor = np.expand_dims(preprocessed_image, axis=0)\n",
    "predictions = model.predict(image_tensor)\n",
    "\n",
    "# Interpret the predictions\n",
    "threshold = 0.5  # Adjust the threshold according to your needs\n",
    "if predictions[0][0] > threshold:\n",
    "    print(\"The bullish flag pattern is present in the image.\")\n",
    "else:\n",
    "    print(\"The bullish flag pattern is not present in the image.\")"
   ]
  },
  {
   "cell_type": "code",
   "execution_count": null,
   "id": "5f5c991b",
   "metadata": {},
   "outputs": [],
   "source": []
  }
 ],
 "metadata": {
  "kernelspec": {
   "display_name": "ares",
   "language": "python",
   "name": "ares"
  },
  "language_info": {
   "codemirror_mode": {
    "name": "ipython",
    "version": 3
   },
   "file_extension": ".py",
   "mimetype": "text/x-python",
   "name": "python",
   "nbconvert_exporter": "python",
   "pygments_lexer": "ipython3",
   "version": "3.8.16"
  }
 },
 "nbformat": 4,
 "nbformat_minor": 5
}
