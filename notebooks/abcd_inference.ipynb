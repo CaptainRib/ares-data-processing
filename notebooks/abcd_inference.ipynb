{
 "cells": [
  {
   "cell_type": "code",
   "execution_count": 89,
   "id": "0d181481",
   "metadata": {},
   "outputs": [],
   "source": [
    "from ultralytics import YOLO\n",
    "import torch\n",
    "import cv2\n",
    "import matplotlib.pyplot as plt\n",
    "import pandas as pd\n",
    "import sys, os\n",
    "from datetime import datetime\n",
    "sys.path.append('/home/jeffreydhy/workspace/project-ares/ares-finance')\n",
    "from utils.time_utils import Utility\n",
    "from train.pattern_recognition.segementation_generation import SegmentImageGenerator\n",
    "from collections import OrderedDict"
   ]
  },
  {
   "cell_type": "markdown",
   "id": "92980eef",
   "metadata": {},
   "source": [
    "## Generate images for prediction\n",
    "\n",
    "This is just a demonstration step. It should have already been done offline."
   ]
  },
  {
   "cell_type": "code",
   "execution_count": 80,
   "id": "ad4fdb71",
   "metadata": {},
   "outputs": [],
   "source": [
    "def generate_image(dates, output_dir):\n",
    "    for date in dates:\n",
    "        data = pd.read_csv('~/data/projects/ares-finance/generated/bar/amd/{}_1_min.csv'.format(date), parse_dates=['timestamp'])\n",
    "        segment_sizes = [30]\n",
    "        seggen = SegmentImageGenerator(data)\n",
    "        seggen.generate_segmented_images(segment_sizes, 'AMD', output_dir)"
   ]
  },
  {
   "cell_type": "code",
   "execution_count": 99,
   "id": "17d8816c",
   "metadata": {},
   "outputs": [],
   "source": [
    "SYMBOL = 'AMD'\n",
    "DATE_START = '2023-04-04'\n",
    "DATE_END = '2023-04-04'\n",
    "dates = Utility.list_trading_days(DATE_START, DATE_END)\n",
    "output_dir = '/home/jeffreydhy/data/projects/ares-finance/generated/images/experiment'\n",
    "# generate_image(dates, output_dir) - Uncomment this if you need to actually run it."
   ]
  },
  {
   "cell_type": "markdown",
   "id": "1f7a6de1",
   "metadata": {},
   "source": [
    "## Inference"
   ]
  },
  {
   "cell_type": "code",
   "execution_count": 100,
   "id": "1e70a730",
   "metadata": {},
   "outputs": [],
   "source": [
    "# res_plotted = results[0].plot()\n",
    "# plt.imshow(res_plotted)"
   ]
  },
  {
   "cell_type": "code",
   "execution_count": 104,
   "id": "3288622c",
   "metadata": {},
   "outputs": [],
   "source": [
    "def map_box_to_timestamp(startX_pixels, boxW_pixels, totalW_pixels, timestamp_start, timestamp_end):\n",
    "    \"\"\"\n",
    "    Map the bounding box from image coordinates to the corresponding timestamp range.\n",
    "\n",
    "    Parameters\n",
    "    ----------\n",
    "    startX_pixels : float\n",
    "        The x-coordinate of the left edge of the bounding box (in pixels).\n",
    "    boxW_pixels : float\n",
    "        The width of the bounding box (in pixels).\n",
    "    totalW_pixels : float\n",
    "        The total width of the image (in pixels).\n",
    "    timestamp_start : pd.Timestamp\n",
    "        The start time of the data segment that the image was generated from.\n",
    "    timestamp_end : pd.Timestamp\n",
    "        The end time of the data segment that the image was generated from.\n",
    "\n",
    "    Returns\n",
    "    -------\n",
    "    tuple\n",
    "        A tuple of two pd.Timestamps representing the start and end time of the\n",
    "        segment that corresponds to the bounding box.\n",
    "    \"\"\"\n",
    "    # calculate the fraction of the total width that startX and boxW represent\n",
    "    frac_start = startX_pixels / totalW_pixels\n",
    "    frac_width = boxW_pixels / totalW_pixels\n",
    "\n",
    "    # calculate the total duration of the segment in minutes\n",
    "    total_duration = 30\n",
    "\n",
    "    # calculate the start time and duration of the segment that corresponds to the bounding box\n",
    "    segment_start_min = total_duration * frac_start\n",
    "    segment_duration_min = total_duration * frac_width\n",
    "    result = []\n",
    "\n",
    "    for delta_start, delta_end in [(0, 0), (0, 1), (1, 0), (-1, 0), (0, -1), (1, 1), (-1, -1)]:\n",
    "        # convert these values to timestamps\n",
    "        segment_start = timestamp_start + pd.Timedelta(minutes=segment_start_min+delta_start)\n",
    "        segment_end = segment_start + pd.Timedelta(minutes=segment_duration_min+delta_end)\n",
    "        result.append((segment_start.round('min'), segment_end.round('min')))\n",
    "\n",
    "    return result"
   ]
  },
  {
   "cell_type": "code",
   "execution_count": 107,
   "id": "4bf294b3",
   "metadata": {},
   "outputs": [
    {
     "name": "stderr",
     "output_type": "stream",
     "text": [
      "\n",
      "image 1/1 /mnt/data/projects/ares-finance/generated/images/inference/AMD_30min_segments/20230103093000_20230103095900.png: 480x640 1 ABCD, 4.7ms\n",
      "Speed: 0.9ms preprocess, 4.7ms inference, 0.9ms postprocess per image at shape (1, 3, 640, 640)\n"
     ]
    },
    {
     "data": {
      "text/plain": [
       "<matplotlib.image.AxesImage at 0x7f3b68351f70>"
      ]
     },
     "execution_count": 107,
     "metadata": {},
     "output_type": "execute_result"
    },
    {
     "data": {
      "image/png": "[encoded data removed]",
      "text/plain": [
       "<Figure size 640x480 with 1 Axes>"
      ]
     },
     "metadata": {},
     "output_type": "display_data"
    }
   ],
   "source": [
    "img_dir = '/home/jeffreydhy/data/projects/ares-finance/generated/images/inference/AMD_30min_segments/20230103093000_20230103095900.png'\n",
    "pt = '/home/jeffreydhy/workspace/project-ares/ares-finance/train/models/yolov5_abcd.pt'\n",
    "results = model(img_dir, conf=0.5, save=False, augment=False, device=1)\n",
    "res_plotted = results[0].plot()\n",
    "plt.imshow(res_plotted)\n",
    "    "
   ]
  },
  {
   "cell_type": "code",
   "execution_count": 106,
   "id": "c22c5219",
   "metadata": {},
   "outputs": [
    {
     "ename": "NotADirectoryError",
     "evalue": "[Errno 20] Not a directory: '/home/jeffreydhy/data/projects/ares-finance/generated/images/inference/AMD_30min_segments/20230103093000_20230103095900.png'",
     "output_type": "error",
     "traceback": [
      "\u001b[0;31m---------------------------------------------------------------------------\u001b[0m",
      "\u001b[0;31mNotADirectoryError\u001b[0m                        Traceback (most recent call last)",
      "Cell \u001b[0;32mIn[106], line 6\u001b[0m\n\u001b[1;32m      3\u001b[0m model \u001b[38;5;241m=\u001b[39m YOLO(pt)\n\u001b[1;32m      5\u001b[0m results \u001b[38;5;241m=\u001b[39m []\n\u001b[0;32m----> 6\u001b[0m \u001b[38;5;28;01mfor\u001b[39;00m filename \u001b[38;5;129;01min\u001b[39;00m \u001b[43mos\u001b[49m\u001b[38;5;241;43m.\u001b[39;49m\u001b[43mlistdir\u001b[49m\u001b[43m(\u001b[49m\u001b[43mimg_dir\u001b[49m\u001b[43m)\u001b[49m:\n\u001b[1;32m      7\u001b[0m     \u001b[38;5;28;01mif\u001b[39;00m filename\u001b[38;5;241m.\u001b[39mendswith(\u001b[38;5;124m\"\u001b[39m\u001b[38;5;124m.png\u001b[39m\u001b[38;5;124m\"\u001b[39m):\n\u001b[1;32m      8\u001b[0m         \n\u001b[1;32m      9\u001b[0m         \u001b[38;5;66;03m# Split the filename into start and end timestamps\u001b[39;00m\n\u001b[1;32m     10\u001b[0m         start_str, end_str \u001b[38;5;241m=\u001b[39m filename[:\u001b[38;5;241m-\u001b[39m\u001b[38;5;241m4\u001b[39m]\u001b[38;5;241m.\u001b[39msplit(\u001b[38;5;124m\"\u001b[39m\u001b[38;5;124m_\u001b[39m\u001b[38;5;124m\"\u001b[39m)  \u001b[38;5;66;03m# Remove .png and split\u001b[39;00m\n",
      "\u001b[0;31mNotADirectoryError\u001b[0m: [Errno 20] Not a directory: '/home/jeffreydhy/data/projects/ares-finance/generated/images/inference/AMD_30min_segments/20230103093000_20230103095900.png'"
     ]
    }
   ],
   "source": [
    "img_dir = '/home/jeffreydhy/data/projects/ares-finance/generated/images/inference/AMD_30min_segments/20230103093000_20230103095900.png'\n",
    "pt = '/home/jeffreydhy/workspace/project-ares/ares-finance/train/models/yolov5_abcd.pt'\n",
    "model = YOLO(pt)\n",
    "\n",
    "results = []\n",
    "for filename in os.listdir(img_dir):\n",
    "    if filename.endswith(\".png\"):\n",
    "        \n",
    "        # Split the filename into start and end timestamps\n",
    "        start_str, end_str = filename[:-4].split(\"_\")  # Remove .png and split\n",
    "\n",
    "        # Parse the strings into datetime objects\n",
    "        start_timestamp = datetime.strptime(start_str, \"%Y%m%d%H%M%S\")\n",
    "        end_timestamp = datetime.strptime(end_str, \"%Y%m%d%H%M%S\")\n",
    "        inferences = model(os.path.join(img_dir, filename), conf=0.5, save=False, augment=False, device=1)\n",
    "        \n",
    "        for inference in inferences:\n",
    "            # get the predictions tensor\n",
    "            pred = inference.boxes.xyxy\n",
    "            # for each detection in the image\n",
    "            for detection in pred:\n",
    "                # unpack the detection\n",
    "                startX, startY, endX, endY = detection\n",
    "\n",
    "                # Convert string to pandas Timestamp\n",
    "                timestamp_start = pd.to_datetime(start_str)\n",
    "                timestamp_end = pd.to_datetime(end_str)\n",
    "\n",
    "                # The startX is already in pixels, so no need to convert\n",
    "                startX_pixels = startX.item()\n",
    "                boxW_pixels = (endX - startX).item()\n",
    "                results += map_box_to_timestamp(startX_pixels, boxW_pixels, 640, timestamp_start, timestamp_end)"
   ]
  },
  {
   "cell_type": "code",
   "execution_count": 95,
   "id": "3f8b5e1a",
   "metadata": {},
   "outputs": [],
   "source": [
    "unique_results = list(OrderedDict.fromkeys(results).keys())"
   ]
  },
  {
   "cell_type": "code",
   "execution_count": 97,
   "id": "76f93a42",
   "metadata": {},
   "outputs": [],
   "source": [
    "unique_results.sort()"
   ]
  },
  {
   "cell_type": "code",
   "execution_count": 98,
   "id": "228dbb93",
   "metadata": {},
   "outputs": [
    {
     "name": "stdout",
     "output_type": "stream",
     "text": [
      "[(Timestamp('2023-01-03 09:39:00'), Timestamp('2023-01-03 09:42:00')), (Timestamp('2023-01-03 09:39:00'), Timestamp('2023-01-03 09:43:00')), (Timestamp('2023-01-03 09:39:00'), Timestamp('2023-01-03 09:44:00')), (Timestamp('2023-01-03 09:40:00'), Timestamp('2023-01-03 09:43:00')), (Timestamp('2023-01-03 09:40:00'), Timestamp('2023-01-03 09:44:00')), (Timestamp('2023-01-03 09:40:00'), Timestamp('2023-01-03 09:45:00')), (Timestamp('2023-01-03 09:40:00'), Timestamp('2023-01-03 09:46:00')), (Timestamp('2023-01-03 09:41:00'), Timestamp('2023-01-03 09:44:00')), (Timestamp('2023-01-03 09:41:00'), Timestamp('2023-01-03 09:45:00')), (Timestamp('2023-01-03 09:41:00'), Timestamp('2023-01-03 09:46:00'))]\n"
     ]
    }
   ],
   "source": [
    "print(unique_results[:10])"
   ]
  },
  {
   "cell_type": "markdown",
   "id": "5b0e9a74",
   "metadata": {},
   "source": [
    "Now we have a list of unique timestamp tuples that represents the start and end timestamp of ABCD pattern. Next step is to run <> algorithm to identitfy AB period of the pattern. "
   ]
  },
  {
   "cell_type": "code",
   "execution_count": null,
   "id": "a0134f47",
   "metadata": {},
   "outputs": [],
   "source": [
    "def find_AB_period(ABCD):\n",
    "    "
   ]
  },
  {
   "cell_type": "code",
   "execution_count": null,
   "id": "7abe433b",
   "metadata": {},
   "outputs": [],
   "source": [
    "find_AB_period(unique_results)\n"
   ]
  }
 ],
 "metadata": {
  "kernelspec": {
   "display_name": "ares",
   "language": "python",
   "name": "ares"
  },
  "language_info": {
   "codemirror_mode": {
    "name": "ipython",
    "version": 3
   },
   "file_extension": ".py",
   "mimetype": "text/x-python",
   "name": "python",
   "nbconvert_exporter": "python",
   "pygments_lexer": "ipython3",
   "version": "3.8.16"
  }
 },
 "nbformat": 4,
 "nbformat_minor": 5
}
