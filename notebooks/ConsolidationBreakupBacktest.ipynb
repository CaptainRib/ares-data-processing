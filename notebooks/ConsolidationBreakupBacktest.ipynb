{
 "cells": [
  {
   "cell_type": "markdown",
   "id": "d5cda7cf",
   "metadata": {},
   "source": [
    "# Consolidation Breakup Strategy Backtest"
   ]
  },
  {
   "cell_type": "markdown",
   "id": "b2c134f2",
   "metadata": {},
   "source": [
    "## Import necessary modules"
   ]
  },
  {
   "cell_type": "code",
   "execution_count": 1,
   "id": "d3a6e5f1",
   "metadata": {},
   "outputs": [],
   "source": [
    "import os\n",
    "import sys\n",
    "from loguru import logger\n",
    "\n",
    "module_path = os.path.abspath(os.path.join('..'))\n",
    "if module_path not in sys.path:\n",
    "    sys.path.append(module_path)\n",
    "\n",
    "from sixty_million.config import DATA_URL\n",
    "from sixty_million.config import BASE_URL\n",
    "from sixty_million.config import API_KEY_ID\n",
    "from sixty_million.config import API_KEY_SECRET\n",
    "from sixty_million.backtest.backtest import Backtest\n",
    "from sixty_million.backtest.strategy.consolidation_breakup_stg import BConsolidationBreakupStg\n",
    "\n",
    "import pandas as pd\n",
    "import requests, json\n",
    "import datetime\n",
    "import seaborn as sns\n",
    "import matplotlib.pyplot as plt\n",
    "import numpy as np"
   ]
  },
  {
   "cell_type": "code",
   "execution_count": 2,
   "id": "4ce39029",
   "metadata": {},
   "outputs": [
    {
     "data": {
      "text/plain": [
       "2"
      ]
     },
     "execution_count": 2,
     "metadata": {},
     "output_type": "execute_result"
    }
   ],
   "source": [
    "# Initializing some utilities\n",
    "logger.remove()\n",
    "logger.add(sys.stdout, format=\"[{level}] {message}\", filter=lambda record: record[\"level\"].name in [\"INFO\", \"DEBUG\"])\n",
    "logger.add(sys.stderr, format=\"[{level}] {message}\", filter=lambda record: record[\"level\"].name not in [\"INFO\", \"DEBUG\"])"
   ]
  },
  {
   "cell_type": "markdown",
   "id": "5c2563ca",
   "metadata": {},
   "source": [
    "## Load data\n",
    "We use Alpaca API to load history data. Data reading module is written in sixty-million/market directory. We need bar and trade data."
   ]
  },
  {
   "cell_type": "markdown",
   "id": "c4f105b9",
   "metadata": {},
   "source": [
    "We need to configure some query parameters:\n",
    "\n",
    "* symbol - stock symbol we want to query for\n",
    "* start_time - starting time in RFC-3339 format. Fractions of a second are not accepted.\n",
    "* end_time - starting time in RFC-3339 format. Fractions of a second are not accepted.\n",
    "* limit - batch size. 1 - 10000\n",
    "* processor - the function that handles the trade data"
   ]
  },
  {
   "cell_type": "markdown",
   "id": "dd6a12ea",
   "metadata": {},
   "source": [
    "### Load trade data"
   ]
  },
  {
   "cell_type": "code",
   "execution_count": 3,
   "id": "6de5fdae",
   "metadata": {},
   "outputs": [],
   "source": [
    "def load_trade_data(symbol, start, end):\n",
    "    trade_data_url = '{base}/v2/stocks/{symbol}/trades'.format(base=DATA_URL, symbol=symbol)\n",
    "    next_token = None\n",
    "    limit = 10000\n",
    "    \n",
    "    trade_data = []\n",
    "\n",
    "    params = {\n",
    "        'start': start,\n",
    "        'end': end,\n",
    "        'limit': limit,\n",
    "        'page_token': next_token\n",
    "    }\n",
    "\n",
    "    headers = {\n",
    "        'APCA-API-KEY-ID': API_KEY_ID,\n",
    "        'APCA-API-SECRET-KEY': API_KEY_SECRET\n",
    "    }\n",
    "\n",
    "    logger.info(\"Start to fetch trade data for {symbol} from {start} to {end}\"\n",
    "                .format(symbol=symbol, start=start, end=end))\n",
    "\n",
    "    response = requests.get(url=trade_data_url, params=params, headers=headers)\n",
    "    print(response.reason)\n",
    "    content = json.loads(response.content)\n",
    "    trade_data.extend(content['trades'])\n",
    "    next_token = content['next_page_token']\n",
    "    while next_token:\n",
    "        params['page_token'] = next_token\n",
    "        response = requests.get(url=trade_data_url, params=params, headers=headers)\n",
    "        content = json.loads(response.content)\n",
    "        trade_data.extend(content['trades'])\n",
    "        next_token = content['next_page_token']\n",
    "\n",
    "    trade_df = pd.DataFrame(trade_data)\n",
    "    logger.info(\"Retrieved {} trade data\".format(trade_df.shape[0]))\n",
    "    return trade_df"
   ]
  },
  {
   "cell_type": "code",
   "execution_count": 5,
   "id": "86ed6a16",
   "metadata": {},
   "outputs": [],
   "source": [
    "def load_bar_data(symbol, start, end):\n",
    "    bar_data_url = '{base}/v2/stocks/{symbol}/bars'.format(base=DATA_URL, symbol=symbol)\n",
    "    next_token = None\n",
    "    timeframe = '1Min'\n",
    "    limit = 10000\n",
    "    \n",
    "    bar_data = []\n",
    "\n",
    "    params = {\n",
    "        'start': start,\n",
    "        'end': end,\n",
    "        'limit': limit,\n",
    "        'timeframe': timeframe,\n",
    "        'page_token': next_token\n",
    "    }\n",
    "\n",
    "    headers = {\n",
    "        'APCA-API-KEY-ID': API_KEY_ID,\n",
    "        'APCA-API-SECRET-KEY': API_KEY_SECRET\n",
    "    }\n",
    "\n",
    "    logger.info(\"Start to fetch bar data for {symbol} from {start} to {end}\"\n",
    "                .format(symbol=symbol, start=start, end=end))\n",
    "\n",
    "    response = requests.get(url=bar_data_url, params=params, headers=headers)\n",
    "    content = json.loads(response.content)\n",
    "    bar_data.extend(content['bars'])\n",
    "    next_token = content['next_page_token']\n",
    "    while next_token:\n",
    "        params['page_token'] = next_token\n",
    "        response = requests.get(url=bar_data_url, params=params, headers=headers)\n",
    "        content = json.loads(response.content)\n",
    "        bar_data.extend(content['bars'])\n",
    "        next_token = content['next_page_token']\n",
    "\n",
    "    bar_df = pd.DataFrame(bar_data)\n",
    "    logger.info(\"Retrieved {} bar data\".format(bar_df.shape[0]))\n",
    "    return bar_df"
   ]
  },
  {
   "cell_type": "code",
   "execution_count": 6,
   "id": "18a05fdc",
   "metadata": {},
   "outputs": [
    {
     "name": "stdout",
     "output_type": "stream",
     "text": [
      "[INFO] Start to fetch trade data for AMD from 2023-03-23T09:30:00-04:00 to 2023-03-23T16:00:00-04:00\n",
      "OK\n",
      "[INFO] Retrieved 492245 trade data\n",
      "[INFO] Start to fetch bar data for AMD from 2023-03-23T09:30:00-04:00 to 2023-03-23T16:00:00-04:00\n",
      "[INFO] Retrieved 391 bar data\n"
     ]
    }
   ],
   "source": [
    "symbol = 'AMD'\n",
    "start = '2023-03-23T09:30:00-04:00'\n",
    "end = '2023-03-23T16:00:00-04:00'\n",
    "trades = load_trade_data(symbol, start, end)\n",
    "bars = load_bar_data(symbol, start, end)"
   ]
  },
  {
   "cell_type": "markdown",
   "id": "6c4d8946",
   "metadata": {},
   "source": [
    "## Initialize and setup Backtrader\n",
    "We use Backtest module for backtesting. Firstly we need to configure backtest parameters"
   ]
  },
  {
   "cell_type": "code",
   "execution_count": 7,
   "id": "c99c6815",
   "metadata": {},
   "outputs": [],
   "source": [
    "BACKTEST_START = '2023-03-23T09:30:03-04:00' # Set the start time to 2 seconds later to avoid a bug\n",
    "BACKTEST_END = '2023-03-23T16:00:00-04:00'\n",
    "CONSOLIDATION_PERIOD = 3\n",
    "CONSOLIDATION_RELATIVE_STD_THRESHOLD = 0.009\n",
    "CONSOLIDATION_VOLUME_BREAKUP_RATIO = 1.3\n",
    "CONSOLIDATION_BUY_SIGNAL_COMPARING_PRICE = 'highest' # possible values are highest, high_avg\n",
    "CONSOLIDATION_PRICE_BREAKUP_RATIO = 1.00\n",
    "CONSOLIDATION_SELL_MINUTES = 2\n",
    "CONSOLIDATION_GAP_MINUTES = 2\n",
    "RISK_REWARD_RATIO = 1.3"
   ]
  },
  {
   "cell_type": "code",
   "execution_count": 8,
   "id": "20fef8af",
   "metadata": {
    "scrolled": false
   },
   "outputs": [
    {
     "name": "stdout",
     "output_type": "stream",
     "text": [
      "[INFO] Loaded <bound method BDataFeed.get_bar_data_dimension of <sixty_million.backtest.data.data_feed.BDataFeed object at 0x115201940>> bars and <bound method BDataFeed.get_trade_data_dimension of <sixty_million.backtest.data.data_feed.BDataFeed object at 0x115201940>> trades\n",
      "[INFO] Fetching previous bars before current start time: 2023-03-23 09:30:03-04:00\n",
      "[INFO] Fetching trades between minute start and start time\n",
      "[INFO] We are buying the stock at 2023-03-23 09:38:57.722223556-04:00 with price 100.37. Profit taking is 101.38400000000003 and stop loss is 99.58999999999999\n",
      "[INFO] We are selling stock at 2023-03-23 09:40:57.741258027-04:00 with price 99.8343 because stock is in consolidation again\n",
      "[INFO] We are buying the stock at 2023-03-23 09:43:29.055489260-04:00 with price 100.5701. Profit taking is 101.66656333333331 and stop loss is 99.72666666666667\n",
      "[INFO] We are selling stock at 2023-03-23 09:45:29.096870040-04:00 with price 100.465 because stock is in consolidation again\n",
      "[INFO] We are buying the stock at 2023-03-23 09:57:35.141998715-04:00 with price 100.76. Profit taking is 101.33200000000002 and stop loss is 100.32\n",
      "[INFO] We are selling stock at 2023-03-23 09:59:35.208087489-04:00 with price 101.18 because stock is in consolidation again\n",
      "[INFO] We are buying the stock at 2023-03-23 10:08:54.012337357-04:00 with price 101.515. Profit taking is 102.01112333333333 and stop loss is 101.13336666666667\n",
      "[INFO] We are selling stock at 2023-03-23 10:10:54.090612629-04:00 with price 101.545 because stock is in consolidation again\n",
      "[INFO] We are buying the stock at 2023-03-23 10:18:55.163668062-04:00 with price 101.6096. Profit taking is 101.98174666666667 and stop loss is 101.32333333333334\n",
      "[INFO] We are stopping loss at 2023-03-23 10:19:36.787267981-04:00 with price 101.32\n",
      "[INFO] We are buying the stock at 2023-03-23 10:24:40.143702837-04:00 with price 101.439. Profit taking is 101.82765666666666 and stop loss is 101.14003333333334\n",
      "[INFO] We are selling stock at 2023-03-23 10:26:40.436888092-04:00 with price 101.44 because stock is in consolidation again\n",
      "[INFO] We are buying the stock at 2023-03-23 10:39:44.212753335-04:00 with price 101.36. Profit taking is 101.77166666666666 and stop loss is 101.04333333333334\n",
      "[INFO] We are selling stock at 2023-03-23 10:41:44.254214247-04:00 with price 101.525 because stock is in consolidation again\n",
      "[INFO] We are buying the stock at 2023-03-23 10:46:22.879461185-04:00 with price 101.61. Profit taking is 102.06066666666668 and stop loss is 101.26333333333332\n",
      "[INFO] We are selling stock at 2023-03-23 10:48:22.911036352-04:00 with price 101.42 because stock is in consolidation again\n",
      "[INFO] We are buying the stock at 2023-03-23 11:00:55.429722496-04:00 with price 102.0. Profit taking is 102.62365333333332 and stop loss is 101.52026666666667\n",
      "[INFO] We are selling stock at 2023-03-23 11:02:55.630233766-04:00 with price 101.7588 because stock is in consolidation again\n",
      "[INFO] We are buying the stock at 2023-03-23 11:14:59.948107824-04:00 with price 102.28. Profit taking is 102.51833333333332 and stop loss is 102.09666666666668\n",
      "[INFO] We are stopping loss at 2023-03-23 11:16:33.273877343-04:00 with price 101.8\n",
      "[INFO] We are buying the stock at 2023-03-23 11:47:40.059357568-04:00 with price 101.59. Profit taking is 101.80744666666668 and stop loss is 101.42273333333333\n",
      "[INFO] We are taking profit at 2023-03-23 11:49:29.206107911-04:00 with price 101.81\n",
      "[INFO] We are buying the stock at 2023-03-23 11:56:57.864331987-04:00 with price 102.05. Profit taking is 102.35545666666664 and stop loss is 101.81503333333335\n",
      "[INFO] We are stopping loss at 2023-03-23 11:58:15.107279177-04:00 with price 101.81\n",
      "[INFO] We are buying the stock at 2023-03-23 12:02:48.644169606-04:00 with price 101.9. Profit taking is 102.14028333333336 and stop loss is 101.71516666666666\n",
      "[INFO] We are selling stock at 2023-03-23 12:04:48.693372144-04:00 with price 101.946 because stock is in consolidation again\n",
      "[INFO] We are buying the stock at 2023-03-23 12:07:53.474890775-04:00 with price 102.05. Profit taking is 102.33469999999998 and stop loss is 101.831\n",
      "[INFO] We are selling stock at 2023-03-23 12:09:53.525109182-04:00 with price 102.2 because stock is in consolidation again\n",
      "[INFO] We are buying the stock at 2023-03-23 12:23:55.274350200-04:00 with price 101.65. Profit taking is 101.962 and stop loss is 101.41000000000001\n",
      "[INFO] We are selling stock at 2023-03-23 12:25:55.319137130-04:00 with price 101.66 because stock is in consolidation again\n",
      "[INFO] We are buying the stock at 2023-03-23 12:58:50.184665625-04:00 with price 101.5844. Profit taking is 101.81545333333335 and stop loss is 101.40666666666665\n",
      "[INFO] We are stopping loss at 2023-03-23 13:00:08.957432451-04:00 with price 101.4\n",
      "[INFO] We are buying the stock at 2023-03-23 13:05:26.844309338-04:00 with price 101.7291. Profit taking is 102.00093000000001 and stop loss is 101.52\n",
      "[INFO] We are selling stock at 2023-03-23 13:07:26.972838586-04:00 with price 101.795 because stock is in consolidation again\n",
      "[INFO] We are buying the stock at 2023-03-23 13:20:39.780779178-04:00 with price 101.4. Profit taking is 101.63954666666667 and stop loss is 101.21573333333333\n",
      "[INFO] We are selling stock at 2023-03-23 13:22:39.859287706-04:00 with price 101.435 because stock is in consolidation again\n",
      "[INFO] We are buying the stock at 2023-03-23 13:22:39.984615770-04:00 with price 101.44. Profit taking is 101.73509999999999 and stop loss is 101.21300000000001\n",
      "[INFO] We are selling stock at 2023-03-23 13:24:40.334599643-04:00 with price 101.63 because stock is in consolidation again\n",
      "[INFO] We are buying the stock at 2023-03-23 13:37:42.867102711-04:00 with price 101.515. Profit taking is 102.022 and stop loss is 101.125\n",
      "[INFO] We are selling stock at 2023-03-23 13:39:42.975150499-04:00 with price 101.51 because stock is in consolidation again\n",
      "[INFO] We are buying the stock at 2023-03-23 13:40:50.132816913-04:00 with price 101.645. Profit taking is 101.98802666666663 and stop loss is 101.38113333333335\n",
      "[INFO] We are selling stock at 2023-03-23 13:42:50.840471044-04:00 with price 101.67 because stock is in consolidation again\n",
      "[INFO] We are buying the stock at 2023-03-23 14:18:56.199543528-04:00 with price 100.66. Profit taking is 100.96766666666666 and stop loss is 100.42333333333333\n",
      "[INFO] We are stopping loss at 2023-03-23 14:20:26.246484777-04:00 with price 100.42\n",
      "[INFO] We are buying the stock at 2023-03-23 14:45:33.044331974-04:00 with price 99.13. Profit taking is 99.4758 and stop loss is 98.86399999999999\n",
      "[INFO] We are stopping loss at 2023-03-23 14:47:22.627940037-04:00 with price 98.86\n",
      "[INFO] We are buying the stock at 2023-03-23 14:51:55.672794956-04:00 with price 99.2401. Profit taking is 99.79229666666666 and stop loss is 98.81533333333334\n",
      "[INFO] We are taking profit at 2023-03-23 14:53:39.125259192-04:00 with price 101.8\n",
      "[INFO] We are buying the stock at 2023-03-23 14:57:55.468143322-04:00 with price 99.12. Profit taking is 99.57716666666668 and stop loss is 98.76833333333333\n",
      "[INFO] We are selling stock at 2023-03-23 14:59:55.540189590-04:00 with price 99.505 because stock is in consolidation again\n",
      "[INFO] We are buying the stock at 2023-03-23 14:59:55.570403604-04:00 with price 99.5. Profit taking is 100.29230666666666 and stop loss is 98.89053333333334\n",
      "[INFO] We are taking profit at 2023-03-23 15:01:05.159185938-04:00 with price 100.3\n",
      "[INFO] We are buying the stock at 2023-03-23 15:23:58.401104683-04:00 with price 99.6. Profit taking is 100.315 and stop loss is 99.05\n",
      "[INFO] We are selling stock at 2023-03-23 15:25:58.602552184-04:00 with price 99.78 because stock is in consolidation again\n",
      "[INFO] We are buying the stock at 2023-03-23 15:35:40.123575092-04:00 with price 99.8196. Profit taking is 100.32309 and stop loss is 99.4323\n",
      "[INFO] We are selling stock at 2023-03-23 15:37:40.443731497-04:00 with price 99.8288 because stock is in consolidation again\n",
      "[INFO] We are buying the stock at 2023-03-23 15:45:39.574633602-04:00 with price 100.0801. Profit taking is 100.58068666666667 and stop loss is 99.69503333333334\n",
      "[INFO] We are selling stock at 2023-03-23 15:47:39.899144044-04:00 with price 100.51 because stock is in consolidation again\n"
     ]
    },
    {
     "name": "stdout",
     "output_type": "stream",
     "text": [
      "[INFO] We are buying the stock at 2023-03-23 15:50:32.145597207-04:00 with price 100.88. Profit taking is 101.82003 and stop loss is 100.1569\n",
      "[INFO] We are selling stock at 2023-03-23 15:52:32.161458512-04:00 with price 100.44 because stock is in consolidation again\n",
      "[INFO] We are at the end of iteration for trades\n",
      "[INFO] We started the simulation with $100000\n",
      "[INFO] We executed 60 trades\n",
      "[INFO] Our trade accuracy (profitable trade) is 60.0%\n",
      "[INFO] We ended the simulation with $101775.31390000004\n",
      "[INFO] Change percentage is 1.7753139000000373%\n"
     ]
    }
   ],
   "source": [
    "bt = Backtest()\n",
    "\n",
    "bt.set_time_range(BACKTEST_START, BACKTEST_END)\n",
    "bt.set_data(bars, trades)\n",
    "\n",
    "stg = BConsolidationBreakupStg(symbol,\n",
    "                               bt.broker,\n",
    "                               consolidation_period=CONSOLIDATION_PERIOD,\n",
    "                               consolidation_relative_std_threshold=CONSOLIDATION_RELATIVE_STD_THRESHOLD, \n",
    "                               consolidation_volume_breakup_ratio=CONSOLIDATION_VOLUME_BREAKUP_RATIO,\n",
    "                               consolidation_buy_signal_comparing_price=CONSOLIDATION_BUY_SIGNAL_COMPARING_PRICE,\n",
    "                               consolidation_price_breakup_ratio=CONSOLIDATION_PRICE_BREAKUP_RATIO,\n",
    "                               consolidation_sell_minutes=CONSOLIDATION_SELL_MINUTES,\n",
    "                               consolidation_gap_minutes=CONSOLIDATION_GAP_MINUTES,\n",
    "                               risk_reward_ratio=RISK_REWARD_RATIO)\n",
    "\n",
    "bt.set_strategy(stg)\n",
    "bt.run(consolidation_period = CONSOLIDATION_PERIOD)"
   ]
  },
  {
   "cell_type": "markdown",
   "id": "96311281",
   "metadata": {},
   "source": [
    "## Plotting result"
   ]
  },
  {
   "cell_type": "markdown",
   "id": "3fb507ea",
   "metadata": {},
   "source": [
    "### Plot backtest result"
   ]
  },
  {
   "cell_type": "code",
   "execution_count": 9,
   "id": "0c40730d",
   "metadata": {},
   "outputs": [
    {
     "data": {
      "image/png": "[encoded data removed]",
      "text/plain": [
       "<Figure size 1152x720 with 1 Axes>"
      ]
     },
     "metadata": {},
     "output_type": "display_data"
    }
   ],
   "source": [
    "sns.set_style('darkgrid')\n",
    "plt.subplots(figsize=(16,10))\n",
    "graph = sns.lineplot(data=bt.result_dp, x='timestamp', y='equity_sim')\n",
    "graph.axhline(100000, ls='--', c='green')\n",
    "plt.xticks(rotation=50)\n",
    "plt.show()"
   ]
  },
  {
   "cell_type": "markdown",
   "id": "45763bda",
   "metadata": {},
   "source": [
    "**Run the following section only if you want to compare paper trading result vs backtest result for same stock. Currently it only support the use case that you only trade 1 stock in paper trading account for the entire day. Otherwise the data will not be accurate.**"
   ]
  },
  {
   "cell_type": "markdown",
   "id": "aeabdb98",
   "metadata": {},
   "source": [
    "### Plotting backtest and paper trading result comparison"
   ]
  },
  {
   "cell_type": "code",
   "execution_count": 23,
   "id": "9e91a194",
   "metadata": {},
   "outputs": [],
   "source": [
    "def get_portfolio_history():\n",
    "    bar_data_url = '{base}/v2/account/portfolio/history'.format(base=BASE_URL)\n",
    "    timeframe = '1Min'\n",
    "    period = '1D'\n",
    "    \n",
    "    params = {\n",
    "        'period': period,\n",
    "        'timeframe': timeframe,\n",
    "        'extended_hours': False\n",
    "    }\n",
    "\n",
    "    headers = {\n",
    "        'APCA-API-KEY-ID': API_KEY_ID,\n",
    "        'APCA-API-SECRET-KEY': API_KEY_SECRET\n",
    "    }\n",
    "    \n",
    "    response = requests.get(url=bar_data_url, params=params, headers=headers)\n",
    "    content = json.loads(response.content)\n",
    "    return content"
   ]
  },
  {
   "cell_type": "code",
   "execution_count": 35,
   "id": "e0a9a96d",
   "metadata": {},
   "outputs": [],
   "source": [
    "# Prepare simulator result to conform with structure of backtest\n",
    "backtest_result = bt.result_dp.copy()\n",
    "backtest_result['timestamp'] = pd.to_datetime(backtest_result['timestamp'])\n",
    "backtest_result['timestamp'] = backtest_result['timestamp'].round('min')\n",
    "backtest_result['timestamp'] = backtest_result['timestamp'].dt.tz_localize('GMT').dt.tz_convert('US/Eastern')\n",
    "backtest_result = backtest_result.set_index('timestamp')\n",
    "grouped = backtest_result.groupby(level=0)\n",
    "backtest_result = grouped.last()"
   ]
  },
  {
   "cell_type": "code",
   "execution_count": 43,
   "id": "371015af",
   "metadata": {},
   "outputs": [],
   "source": [
    "portfolio_response = get_portfolio_history()\n",
    "portfolio_df = pd.DataFrame(portfolio_response)[:-1]\n",
    "portfolio_df.drop(['profit_loss', 'profit_loss_pct', 'base_value', 'timeframe'], axis=1, inplace=True)\n",
    "portfolio_df['equity'] += 75000\n",
    "portfolio_df['timestamp'] = pd.to_datetime(portfolio_df['timestamp'], unit='s')\n",
    "portfolio_df['timestamp'] = portfolio_df['timestamp'].dt.tz_localize('GMT').dt.tz_convert('US/Eastern')\n",
    "paper_trading_result = portfolio_df\n",
    "paper_trading_result = paper_trading_result.set_index('timestamp')"
   ]
  },
  {
   "cell_type": "code",
   "execution_count": 44,
   "id": "a67b5ee4",
   "metadata": {},
   "outputs": [],
   "source": [
    "integrated_result = paper_trading_result.copy()\n",
    "integrated_result['equity_sim'] = 0\n",
    "prev_equity = 100000\n",
    "for index in integrated_result.index:\n",
    "    if index in backtest_result.index:\n",
    "        es = backtest_result.loc[index].equity_sim\n",
    "        integrated_result.at[index, 'equity_sim'] = es\n",
    "        prev_equity = es\n",
    "    else:\n",
    "        integrated_result.at[index, 'equity_sim'] = prev_equity\n"
   ]
  },
  {
   "cell_type": "code",
   "execution_count": 45,
   "id": "e9e61328",
   "metadata": {},
   "outputs": [
    {
     "data": {
      "image/png": "[encoded data removed]",
      "text/plain": [
       "<Figure size 1152x720 with 1 Axes>"
      ]
     },
     "metadata": {},
     "output_type": "display_data"
    }
   ],
   "source": [
    "sns.set_style('darkgrid')\n",
    "plt.subplots(figsize=(16,10))\n",
    "graph = sns.lineplot(data=integrated_result)\n",
    "graph.axhline(100000, ls='--', c='green')\n",
    "\n",
    "plt.show()\n"
   ]
  },
  {
   "cell_type": "code",
   "execution_count": null,
   "id": "d2970de9",
   "metadata": {},
   "outputs": [],
   "source": []
  },
  {
   "cell_type": "code",
   "execution_count": null,
   "id": "b5b8a9ad",
   "metadata": {},
   "outputs": [],
   "source": []
  },
  {
   "cell_type": "code",
   "execution_count": null,
   "id": "9e90c083",
   "metadata": {},
   "outputs": [],
   "source": []
  },
  {
   "cell_type": "code",
   "execution_count": null,
   "id": "e2cec71d",
   "metadata": {},
   "outputs": [],
   "source": []
  }
 ],
 "metadata": {
  "kernelspec": {
   "display_name": "sixty-million",
   "language": "python",
   "name": "sixty-million"
  },
  "language_info": {
   "codemirror_mode": {
    "name": "ipython",
    "version": 3
   },
   "file_extension": ".py",
   "mimetype": "text/x-python",
   "name": "python",
   "nbconvert_exporter": "python",
   "pygments_lexer": "ipython3",
   "version": "3.8.9"
  }
 },
 "nbformat": 4,
 "nbformat_minor": 5
}
